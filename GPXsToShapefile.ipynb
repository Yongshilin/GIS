{
  "nbformat": 4,
  "nbformat_minor": 0,
  "metadata": {
    "colab": {
      "provenance": [],
      "authorship_tag": "ABX9TyNIfkRd904oUObTZED3vODf",
      "include_colab_link": true
    },
    "kernelspec": {
      "name": "python3",
      "display_name": "Python 3"
    },
    "language_info": {
      "name": "python"
    }
  },
  "cells": [
    {
      "cell_type": "markdown",
      "metadata": {
        "id": "view-in-github",
        "colab_type": "text"
      },
      "source": [
        "<a href=\"https://colab.research.google.com/github/Yongshilin/GIS/blob/main/GPXsToShapefile.ipynb\" target=\"_parent\"><img src=\"https://colab.research.google.com/assets/colab-badge.svg\" alt=\"Open In Colab\"/></a>"
      ]
    },
    {
      "cell_type": "markdown",
      "source": [
        "# Combine all GPX files to One Shapefile and Download"
      ],
      "metadata": {
        "id": "xskDBoXHNxRR"
      }
    },
    {
      "cell_type": "markdown",
      "source": [
        "#### 1. Install packages"
      ],
      "metadata": {
        "id": "LbFYRidFOduT"
      }
    },
    {
      "cell_type": "code",
      "execution_count": 6,
      "metadata": {
        "colab": {
          "base_uri": "https://localhost:8080/"
        },
        "id": "uRvFRQ_vHMtT",
        "outputId": "0c5de376-d5e4-46d2-97f6-b7d593885724"
      },
      "outputs": [
        {
          "output_type": "stream",
          "name": "stdout",
          "text": [
            "Requirement already satisfied: geopandas in /usr/local/lib/python3.10/dist-packages (1.0.1)\n",
            "Requirement already satisfied: shapely in /usr/local/lib/python3.10/dist-packages (2.0.6)\n",
            "Requirement already satisfied: gpxpy in /usr/local/lib/python3.10/dist-packages (1.6.2)\n",
            "Requirement already satisfied: numpy>=1.22 in /usr/local/lib/python3.10/dist-packages (from geopandas) (1.26.4)\n",
            "Requirement already satisfied: pyogrio>=0.7.2 in /usr/local/lib/python3.10/dist-packages (from geopandas) (0.10.0)\n",
            "Requirement already satisfied: packaging in /usr/local/lib/python3.10/dist-packages (from geopandas) (24.2)\n",
            "Requirement already satisfied: pandas>=1.4.0 in /usr/local/lib/python3.10/dist-packages (from geopandas) (2.2.2)\n",
            "Requirement already satisfied: pyproj>=3.3.0 in /usr/local/lib/python3.10/dist-packages (from geopandas) (3.7.0)\n",
            "Requirement already satisfied: python-dateutil>=2.8.2 in /usr/local/lib/python3.10/dist-packages (from pandas>=1.4.0->geopandas) (2.8.2)\n",
            "Requirement already satisfied: pytz>=2020.1 in /usr/local/lib/python3.10/dist-packages (from pandas>=1.4.0->geopandas) (2024.2)\n",
            "Requirement already satisfied: tzdata>=2022.7 in /usr/local/lib/python3.10/dist-packages (from pandas>=1.4.0->geopandas) (2024.2)\n",
            "Requirement already satisfied: certifi in /usr/local/lib/python3.10/dist-packages (from pyogrio>=0.7.2->geopandas) (2024.8.30)\n",
            "Requirement already satisfied: six>=1.5 in /usr/local/lib/python3.10/dist-packages (from python-dateutil>=2.8.2->pandas>=1.4.0->geopandas) (1.16.0)\n"
          ]
        }
      ],
      "source": [
        "pip install geopandas shapely gpxpy"
      ]
    },
    {
      "cell_type": "markdown",
      "source": [
        "#### 2. Run this block of code to combine all the GPX files into a new shapefiles:"
      ],
      "metadata": {
        "id": "pxKs-02yOk4R"
      }
    },
    {
      "cell_type": "code",
      "source": [
        "import os\n",
        "import gpxpy\n",
        "import geopandas as gpd\n",
        "from shapely.geometry import LineString\n",
        "import pandas as pd\n",
        "import zipfile\n",
        "\n",
        "def gpx_to_geodataframe(gpx_file):\n",
        "    # Extract the trail name from the GPX file path\n",
        "    trail_name = os.path.basename(gpx_file).replace('.gpx', '')\n",
        "\n",
        "    with open(gpx_file, 'r') as file:\n",
        "        gpx = gpxpy.parse(file)\n",
        "\n",
        "    lines = []  # List to hold LineString geometries\n",
        "    for track in gpx.tracks:\n",
        "        for segment in track.segments:\n",
        "            coords = [(point.longitude, point.latitude) for point in segment.points]\n",
        "            if coords:  # Ensure there are coordinates to create a LineString\n",
        "                line = LineString(coords)\n",
        "                lines.append({\n",
        "                    'geometry': line,\n",
        "                    'trail_name': trail_name,  # Add trail name as an attribute\n",
        "                    'elevation': [point.elevation for point in segment.points],  # Optional: Add elevation\n",
        "                    'time': [point.time for point in segment.points]  # Optional: Add time\n",
        "                })\n",
        "\n",
        "    return gpd.GeoDataFrame(lines, crs=\"EPSG:4326\")\n",
        "\n",
        "def merge_gpx_files(gpx_files):\n",
        "    all_lines = []\n",
        "    for gpx_file in gpx_files:\n",
        "        gdf = gpx_to_geodataframe(gpx_file)\n",
        "        all_lines.append(gdf)\n",
        "\n",
        "    return gpd.GeoDataFrame(pd.concat(all_lines, ignore_index=True))\n",
        "\n",
        "def save_shapefile_as_zip(gdf, shapefile_name, output_folder):\n",
        "    # Construct the shapefile path\n",
        "    shapefile_path = os.path.join(output_folder, f\"{shapefile_name}.shp\")\n",
        "\n",
        "    # Save as shapefile\n",
        "    gdf.to_file(shapefile_path, driver=\"ESRI Shapefile\")\n",
        "\n",
        "    # Zip the shapefile components\n",
        "    shapefile_zip = f\"{shapefile_path}.zip\"\n",
        "    with zipfile.ZipFile(shapefile_zip, 'w') as zipf:\n",
        "        for root, _, files in os.walk(output_folder):\n",
        "            for file in files:\n",
        "                if file.startswith(shapefile_name) and file.endswith(('.shp', '.shx', '.dbf', '.prj')):\n",
        "                    zipf.write(os.path.join(root, file), arcname=file)"
      ],
      "metadata": {
        "colab": {
          "base_uri": "https://localhost:8080/"
        },
        "id": "2A5-qvreELGm",
        "outputId": "6e750789-2742-426b-e0a0-bf57aec15ecd"
      },
      "execution_count": 10,
      "outputs": [
        {
          "output_type": "stream",
          "name": "stderr",
          "text": [
            "/usr/local/lib/python3.10/dist-packages/pyogrio/raw.py:723: RuntimeWarning: Value '[2.0, 2.0, 2.0, 2.0, 2.0, 2.0, 2.0, 2.0, 2.0, 2.0, 2.0, 2.0, 2.0, 2.0, 2.0, 2.0, 2.0, 2.0, 2.0, 2.0, 2.0, 2.0, 2.0, 2.0, 2.0, 2.0, 2.0, 2.0, 2.0, 2.0, 2.0, 2.0, 2.0, 2.0, 2.0, 2.0, 2.0, 2.0, 2.0, 2.0, 2.0, 2.0, 2.0, 2.0, 2.0, 2.0, 2.0, 2.0, 2.0, 2.0, 2.0, 2.0, 2.0, 2.0, 2.0, 2.0, 2.0, 2.0, 1.95, 1.55, 1.16, 1.0, 1.0, 1.0, 1.0, 1.0, 1.0, 1.0, 1.0, 1.0, 1.0, 1.0, 1.0, 1.0, 1.0, 1.0, 1.0, 1.0, 1.0, 1.0, 1.0, 1.0, 1.0, 1.0, 1.0, 1.0, 1.0, 1.0, 1.0, 1.0, 1.0, 1.0, 1.0, 1.0, 1.0, 1.0, 1.0, 1.0, 1.0, 1.0, 1.0, 1.0, 1.0, 1.0, 1.0, 1.0, 1.0, 1.0, 1.0, 1.0, 1.0, 1.0, 1.0, 1.0, 1.0, 1.0, 1.0, 1.0, 1.0, 1.0, 1.0, 1.18, 1.74, 2.0, 2.0, 2.0, 2.0, 2.0, 2.0, 2.0, 2.0, 2.0, 2.0, 2.0, 2.0, 2.0, 2.0, 2.0, 2.0, 2.0, 2.0, 2.0, 2.0, 2.0, 2.0, 2.0, 2.0, 2.0, 2.0, 2.0, 2.0, 2.0, 2.0, 2.0]' of field elevation has been truncated to 254 characters.  This warning will not be emitted any more for that layer.\n",
            "  ogr_write(\n"
          ]
        }
      ]
    },
    {
      "cell_type": "markdown",
      "source": [
        "#### 3. Modify your file names in this block of code:\n",
        "a) First, create 2 new folders and name them:\n",
        "- You will need to create a folder storing all the trails data in GPX format.\n",
        "\n",
        "In this example: create a new folder named 'gpx_files' under folder 'content'. Then right click the 'gpx_files', select 'upload', and then choose all the GPX files you want to combine.\n",
        "- You will need to create a new folder to save the combined GPX files in Shapefiles format.\n",
        "\n",
        "In this example: create a folder named 'output_folder' under folder 'content'.\n",
        "\n",
        "b) Second, modify your folder & file names:\n",
        "- Fill in your folder path in code area 'gpx_directory'.\n",
        "\n",
        "In this example:\n",
        "Click the 'gpx_files', right click 'copy path', then paste it to replace the '/content/gpx_files' in this line of code: gpx_directory = '/content/gpx_files'(Don't drop the '' when you replace the path.)\n",
        "\n",
        "- Fill in your folder path in code area 'output_folder'.\n",
        "\n",
        "In this example:\n",
        "Click the 'output_folder', right click 'copy path', then paste it to replace the '/content/output_folder' in this line of code: output_folder = \"/content/output_folder\" (Don't drop the '' when you replace the path.)\n",
        "\n",
        "- Name your shapefile_name.\n",
        "\n",
        "In this example:\n",
        "We name our shapefile as \"AIS_trails\", so the code is: shapefile_name = \"AIS_trails\". You can rename it.\n",
        "\n",
        "- After running the code till here, you can find the Shapefile Zip(AIS_trails.shp.zip) is saved in the 'output_folder'.\n"
      ],
      "metadata": {
        "id": "DhG95lpuPkbW"
      }
    },
    {
      "cell_type": "code",
      "source": [
        "# Automatically collect all GPX files from a directory\n",
        "gpx_directory = '/content/gpx_files'  # Replace with your directory containing GPX files\n",
        "gpx_files = [os.path.join(gpx_directory, f) for f in os.listdir(gpx_directory) if f.endswith('.gpx')]\n",
        "\n",
        "output_folder = \"/content/output_folder\"  # Specify your output directory\n",
        "shapefile_name = \"AIS_trails\"  # Specify your shapefile name\n",
        "\n",
        "# Merge GPX files and save as a shapefile zip\n",
        "merged_gdf = merge_gpx_files(gpx_files)\n",
        "save_shapefile_as_zip(merged_gdf, shapefile_name, output_folder)\n",
        "# the '.shp.zip' saved in the output_folder is the shapefile combining all our trails\n",
        "# you can manually download it to your device, or you can run the code below to do it."
      ],
      "metadata": {
        "id": "X5pq7ihQPYHU"
      },
      "execution_count": null,
      "outputs": []
    },
    {
      "cell_type": "markdown",
      "source": [
        "#### Download the shpefile from the 'output_folder' to local computer:\n",
        "- Right click the 'AIS_trails.ship.zip', click 'copy path', then put the path in the below code files.download()\n",
        "\n",
        "In this example: add our file path (/content/output_folder/AIS_trails.shp.zip) inside the brackets, remeber to add the ' '."
      ],
      "metadata": {
        "id": "W72IwYnNOE_d"
      }
    },
    {
      "cell_type": "code",
      "source": [
        "# Download shpefile zip file to the computer\n",
        "from google.colab import files\n",
        "files.download('/content/output_folder/AIS_trails.shp.zip')"
      ],
      "metadata": {
        "colab": {
          "base_uri": "https://localhost:8080/",
          "height": 17
        },
        "id": "C8fRug-xKOAb",
        "outputId": "84a936f2-52c4-4355-aee9-76a943d8efd4"
      },
      "execution_count": 12,
      "outputs": [
        {
          "output_type": "display_data",
          "data": {
            "text/plain": [
              "<IPython.core.display.Javascript object>"
            ],
            "application/javascript": [
              "\n",
              "    async function download(id, filename, size) {\n",
              "      if (!google.colab.kernel.accessAllowed) {\n",
              "        return;\n",
              "      }\n",
              "      const div = document.createElement('div');\n",
              "      const label = document.createElement('label');\n",
              "      label.textContent = `Downloading \"${filename}\": `;\n",
              "      div.appendChild(label);\n",
              "      const progress = document.createElement('progress');\n",
              "      progress.max = size;\n",
              "      div.appendChild(progress);\n",
              "      document.body.appendChild(div);\n",
              "\n",
              "      const buffers = [];\n",
              "      let downloaded = 0;\n",
              "\n",
              "      const channel = await google.colab.kernel.comms.open(id);\n",
              "      // Send a message to notify the kernel that we're ready.\n",
              "      channel.send({})\n",
              "\n",
              "      for await (const message of channel.messages) {\n",
              "        // Send a message to notify the kernel that we're ready.\n",
              "        channel.send({})\n",
              "        if (message.buffers) {\n",
              "          for (const buffer of message.buffers) {\n",
              "            buffers.push(buffer);\n",
              "            downloaded += buffer.byteLength;\n",
              "            progress.value = downloaded;\n",
              "          }\n",
              "        }\n",
              "      }\n",
              "      const blob = new Blob(buffers, {type: 'application/binary'});\n",
              "      const a = document.createElement('a');\n",
              "      a.href = window.URL.createObjectURL(blob);\n",
              "      a.download = filename;\n",
              "      div.appendChild(a);\n",
              "      a.click();\n",
              "      div.remove();\n",
              "    }\n",
              "  "
            ]
          },
          "metadata": {}
        },
        {
          "output_type": "display_data",
          "data": {
            "text/plain": [
              "<IPython.core.display.Javascript object>"
            ],
            "application/javascript": [
              "download(\"download_4e2777e0-5e1d-4ed0-bb54-866ba34938aa\", \"AIS_trails.shp.zip\", 808585)"
            ]
          },
          "metadata": {}
        }
      ]
    },
    {
      "cell_type": "markdown",
      "source": [
        "_____\n",
        "#### If you want to make sure it shows the trails in line format instead of points in the map, you can run the code below for checking:"
      ],
      "metadata": {
        "id": "TWA8nLHDNi9u"
      }
    },
    {
      "cell_type": "code",
      "source": [
        "#Verify Geometry Types\n",
        "#If the output shows Point instead of LineString, then the problem lies in how the geometries are being created or merged.\n",
        "print(merged_gdf.geometry.geom_type)"
      ],
      "metadata": {
        "id": "RyANsD8f_Hje",
        "colab": {
          "base_uri": "https://localhost:8080/"
        },
        "outputId": "93ceecc6-74e1-4c10-a8ee-f1897c64fde3"
      },
      "execution_count": 11,
      "outputs": [
        {
          "output_type": "stream",
          "name": "stdout",
          "text": [
            "0     LineString\n",
            "1     LineString\n",
            "2     LineString\n",
            "3     LineString\n",
            "4     LineString\n",
            "         ...    \n",
            "79    LineString\n",
            "80    LineString\n",
            "81    LineString\n",
            "82    LineString\n",
            "83    LineString\n",
            "Length: 84, dtype: object\n"
          ]
        }
      ]
    },
    {
      "cell_type": "code",
      "source": [
        "#Check for Valid Geometries\n",
        "print(merged_gdf.geometry.is_valid)"
      ],
      "metadata": {
        "id": "FqIQsv4-_Opq",
        "colab": {
          "base_uri": "https://localhost:8080/"
        },
        "outputId": "c51f53a6-b445-4afc-c536-7a7f01ba876e"
      },
      "execution_count": null,
      "outputs": [
        {
          "output_type": "stream",
          "name": "stdout",
          "text": [
            "0     True\n",
            "1     True\n",
            "2     True\n",
            "3     True\n",
            "4     True\n",
            "5     True\n",
            "6     True\n",
            "7     True\n",
            "8     True\n",
            "9     True\n",
            "10    True\n",
            "dtype: bool\n"
          ]
        }
      ]
    },
    {
      "cell_type": "code",
      "source": [
        "## DO NOT RUN THIS CODE IF THE shapefiles WORKS!\n",
        "#If any of the geometries are invalid, you can try to fix them using the buffer(0) method, which can help to correct minor issues:\n",
        "merged_gdf['geometry'] = merged_gdf.geometry.buffer(0)"
      ],
      "metadata": {
        "id": "Ux6_zH3r_T0a"
      },
      "execution_count": null,
      "outputs": []
    }
  ]
}