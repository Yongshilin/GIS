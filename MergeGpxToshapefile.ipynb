{
  "nbformat": 4,
  "nbformat_minor": 0,
  "metadata": {
    "colab": {
      "provenance": []
    },
    "kernelspec": {
      "name": "python3",
      "display_name": "Python 3"
    },
    "language_info": {
      "name": "python"
    }
  },
  "cells": [
    {
      "cell_type": "code",
      "execution_count": null,
      "metadata": {
        "colab": {
          "base_uri": "https://localhost:8080/"
        },
        "id": "uRvFRQ_vHMtT",
        "outputId": "bcc23cdb-9967-45c1-9182-a8a87236aa06"
      },
      "outputs": [
        {
          "output_type": "stream",
          "name": "stdout",
          "text": [
            "Requirement already satisfied: geopandas in /usr/local/lib/python3.10/dist-packages (1.0.1)\n",
            "Requirement already satisfied: shapely in /usr/local/lib/python3.10/dist-packages (2.0.6)\n",
            "Collecting gpxpy\n",
            "  Downloading gpxpy-1.6.2-py3-none-any.whl.metadata (5.9 kB)\n",
            "Requirement already satisfied: numpy>=1.22 in /usr/local/lib/python3.10/dist-packages (from geopandas) (1.26.4)\n",
            "Requirement already satisfied: pyogrio>=0.7.2 in /usr/local/lib/python3.10/dist-packages (from geopandas) (0.10.0)\n",
            "Requirement already satisfied: packaging in /usr/local/lib/python3.10/dist-packages (from geopandas) (24.1)\n",
            "Requirement already satisfied: pandas>=1.4.0 in /usr/local/lib/python3.10/dist-packages (from geopandas) (2.2.2)\n",
            "Requirement already satisfied: pyproj>=3.3.0 in /usr/local/lib/python3.10/dist-packages (from geopandas) (3.7.0)\n",
            "Requirement already satisfied: python-dateutil>=2.8.2 in /usr/local/lib/python3.10/dist-packages (from pandas>=1.4.0->geopandas) (2.8.2)\n",
            "Requirement already satisfied: pytz>=2020.1 in /usr/local/lib/python3.10/dist-packages (from pandas>=1.4.0->geopandas) (2024.2)\n",
            "Requirement already satisfied: tzdata>=2022.7 in /usr/local/lib/python3.10/dist-packages (from pandas>=1.4.0->geopandas) (2024.2)\n",
            "Requirement already satisfied: certifi in /usr/local/lib/python3.10/dist-packages (from pyogrio>=0.7.2->geopandas) (2024.8.30)\n",
            "Requirement already satisfied: six>=1.5 in /usr/local/lib/python3.10/dist-packages (from python-dateutil>=2.8.2->pandas>=1.4.0->geopandas) (1.16.0)\n",
            "Downloading gpxpy-1.6.2-py3-none-any.whl (42 kB)\n",
            "\u001b[2K   \u001b[90m━━━━━━━━━━━━━━━━━━━━━━━━━━━━━━━━━━━━━━━━\u001b[0m \u001b[32m42.6/42.6 kB\u001b[0m \u001b[31m1.2 MB/s\u001b[0m eta \u001b[36m0:00:00\u001b[0m\n",
            "\u001b[?25hInstalling collected packages: gpxpy\n",
            "Successfully installed gpxpy-1.6.2\n"
          ]
        }
      ],
      "source": [
        "pip install geopandas shapely gpxpy"
      ]
    },
    {
      "cell_type": "code",
      "source": [
        "import os\n",
        "import gpxpy\n",
        "import geopandas as gpd\n",
        "from shapely.geometry import LineString\n",
        "import zipfile\n",
        "\n",
        "def gpx_to_geodataframe(gpx_file):\n",
        "    with open(gpx_file, 'r') as file:\n",
        "        gpx = gpxpy.parse(file)\n",
        "\n",
        "    lines = []  # List to hold LineString geometries\n",
        "    for track in gpx.tracks:\n",
        "        all_coords = []  # List to hold all coordinates for this track\n",
        "        for segment in track.segments:\n",
        "            # Create LineString from segment points\n",
        "            coords = [(point.longitude, point.latitude) for point in segment.points]\n",
        "            all_coords.extend(coords)  # Add segment coordinates to the track list\n",
        "\n",
        "        if all_coords:  # Ensure there are coordinates to create a LineString\n",
        "            line = LineString(all_coords)\n",
        "            lines.append({\n",
        "                'geometry': line,\n",
        "                'elevation': [point.elevation for point in segment.points],  # Optional: Add elevation\n",
        "                'time': [point.time for point in segment.points]  # Optional: Add time\n",
        "            })\n",
        "\n",
        "    return gpd.GeoDataFrame(lines, crs=\"EPSG:4326\")  # Set the CRS for WGS84\n",
        "\n",
        "def merge_gpx_files(gpx_files):\n",
        "    all_lines = []\n",
        "    for gpx_file in gpx_files:\n",
        "        gdf = gpx_to_geodataframe(gpx_file)\n",
        "        all_lines.append(gdf)\n",
        "\n",
        "    return gpd.GeoDataFrame(pd.concat(all_lines, ignore_index=True))\n",
        "\n",
        "def save_shapefile_as_zip(gdf, shapefile_name, output_folder):\n",
        "    # Construct the shapefile path\n",
        "    shapefile_path = os.path.join(output_folder, f\"{shapefile_name}.shp\")\n",
        "\n",
        "    # Save as shapefile\n",
        "    gdf.to_file(shapefile_path, driver=\"ESRI Shapefile\")\n",
        "\n",
        "    # Zip the shapefile components\n",
        "    shapefile_zip = f\"{shapefile_path}.zip\"\n",
        "    with zipfile.ZipFile(shapefile_zip, 'w') as zipf:\n",
        "        for root, _, files in os.walk(output_folder):\n",
        "            for file in files:\n",
        "                if file.startswith(shapefile_name) and file.endswith(('.shp', '.shx', '.dbf', '.prj')):\n",
        "                    zipf.write(os.path.join(root, file), arcname=file)"
      ],
      "metadata": {
        "id": "Xrp784VfNeiv"
      },
      "execution_count": null,
      "outputs": []
    },
    {
      "cell_type": "code",
      "source": [
        "# List of GPX files to merge\n",
        "gpx_files = ['/content/Anastasia State Park Marsh Trail.gpx',\n",
        "             '/content/Ancient Dunes Nature Trail.gpx',\n",
        "             '/content/Cape Francis Beach Walk.gpx',\n",
        "             '/content/Fort Matanzas Nature Trail.gpx',\n",
        "             '/content/Fort Matanzas Nature Trail.gpx',\n",
        "             '/content/Moses Creek White Trail.gpx',\n",
        "             '/content/Moses Creek to Murats Point.gpx',\n",
        "             '/content/Spanish Quarry.gpx',\n",
        "             '/content/St. Augustine Walking Tour.gpx',\n",
        "             '/content/Treaty Park Loop.gpx',\n",
        "             '/content/Twelve Mile Swamp Conservation Area Trail.gpx',\n",
        "             '/content/White Trail to Group Camping Site.gpx']  # Add your GPX file paths here\n",
        "output_folder = \"/content/output_folder\"  # Specify your output directory\n",
        "shapefile_name = \"staug_10alltrails_data\"  # Specify your shapefile name\n",
        "\n",
        "# Merge GPX files and save as a shapefile zip\n",
        "merged_gdf = merge_gpx_files(gpx_files)\n",
        "save_shapefile_as_zip(merged_gdf, shapefile_name, output_folder)\n"
      ],
      "metadata": {
        "colab": {
          "base_uri": "https://localhost:8080/"
        },
        "id": "Yk3huergI0n3",
        "outputId": "2ecc9d94-d8d1-40bf-e169-1d3945de11df"
      },
      "execution_count": null,
      "outputs": [
        {
          "output_type": "stream",
          "name": "stderr",
          "text": [
            "/usr/local/lib/python3.10/dist-packages/pyogrio/raw.py:723: RuntimeWarning: Value '[1.0, 1.96, 1.67, 1.78, 1.67, 1.45, 1.02, 1.0, 1.1, 1.1, 1.0, 1.43, 1.21, 1.55, 1.12, 1.34, 1.27, 1.12, 1.07, 1.0, 1.13, 1.07, 1.0, 1.0, 1.0, 1.0, 1.0, 1.98, 2.0, 2.0, 2.0, 2.35, 3.03, 0.0, 0.0, 0.0, 0.0, 0.0, 0.08, 0.0, 1.0, 1.25, 1.5, 1.64, 1.55, 1.85, 2.17, 1.85, 1.55, 1.64, 1.5, 1.25, 1.0, 0.0, 0.08, 0.0, 0.0, 0.0, 0.0, 0.0, 3.03, 2.35, 2.0, 2.0, 2.0, 1.98, 1.0, 1.0, 1.0, 1.0, 1.0, 1.07, 1.13, 1.0, 1.07, 1.12, 1.27, 1.34, 1.12, 1.55, 1.21, 1.43, 1.0, 1.1, 1.1, 1.0, 1.02, 1.45, 1.67, 1.78, 1.67, 1.96, 1.0]' of field elevation has been truncated to 254 characters.  This warning will not be emitted any more for that layer.\n",
            "  ogr_write(\n"
          ]
        }
      ]
    },
    {
      "cell_type": "code",
      "source": [
        "from google.colab import files\n",
        "files.download('/content/output_folder/staug_10alltrails_data.shp.zip')"
      ],
      "metadata": {
        "colab": {
          "base_uri": "https://localhost:8080/",
          "height": 34
        },
        "id": "C8fRug-xKOAb",
        "outputId": "de371fca-dcae-494c-eb9f-14bebd6b366b"
      },
      "execution_count": null,
      "outputs": [
        {
          "output_type": "display_data",
          "data": {
            "text/plain": [
              "<IPython.core.display.Javascript object>"
            ],
            "application/javascript": [
              "\n",
              "    async function download(id, filename, size) {\n",
              "      if (!google.colab.kernel.accessAllowed) {\n",
              "        return;\n",
              "      }\n",
              "      const div = document.createElement('div');\n",
              "      const label = document.createElement('label');\n",
              "      label.textContent = `Downloading \"${filename}\": `;\n",
              "      div.appendChild(label);\n",
              "      const progress = document.createElement('progress');\n",
              "      progress.max = size;\n",
              "      div.appendChild(progress);\n",
              "      document.body.appendChild(div);\n",
              "\n",
              "      const buffers = [];\n",
              "      let downloaded = 0;\n",
              "\n",
              "      const channel = await google.colab.kernel.comms.open(id);\n",
              "      // Send a message to notify the kernel that we're ready.\n",
              "      channel.send({})\n",
              "\n",
              "      for await (const message of channel.messages) {\n",
              "        // Send a message to notify the kernel that we're ready.\n",
              "        channel.send({})\n",
              "        if (message.buffers) {\n",
              "          for (const buffer of message.buffers) {\n",
              "            buffers.push(buffer);\n",
              "            downloaded += buffer.byteLength;\n",
              "            progress.value = downloaded;\n",
              "          }\n",
              "        }\n",
              "      }\n",
              "      const blob = new Blob(buffers, {type: 'application/binary'});\n",
              "      const a = document.createElement('a');\n",
              "      a.href = window.URL.createObjectURL(blob);\n",
              "      a.download = filename;\n",
              "      div.appendChild(a);\n",
              "      a.click();\n",
              "      div.remove();\n",
              "    }\n",
              "  "
            ]
          },
          "metadata": {}
        },
        {
          "output_type": "display_data",
          "data": {
            "text/plain": [
              "<IPython.core.display.Javascript object>"
            ],
            "application/javascript": [
              "download(\"download_1e238252-3e74-4a92-93c0-f0a96107284f\", \"staug_10alltrails_data.shp.zip\", 134605)"
            ]
          },
          "metadata": {}
        }
      ]
    }
  ]
}