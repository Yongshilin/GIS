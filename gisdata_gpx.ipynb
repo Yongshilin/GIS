{
  "nbformat": 4,
  "nbformat_minor": 0,
  "metadata": {
    "colab": {
      "provenance": [],
      "authorship_tag": "ABX9TyOJMhgqzDjlEwikO3MdsBqa",
      "include_colab_link": true
    },
    "kernelspec": {
      "name": "python3",
      "display_name": "Python 3"
    },
    "language_info": {
      "name": "python"
    }
  },
  "cells": [
    {
      "cell_type": "markdown",
      "metadata": {
        "id": "view-in-github",
        "colab_type": "text"
      },
      "source": [
        "<a href=\"https://colab.research.google.com/github/Yongshilin/GIS/blob/main/gisdata_gpx.ipynb\" target=\"_parent\"><img src=\"https://colab.research.google.com/assets/colab-badge.svg\" alt=\"Open In Colab\"/></a>"
      ]
    },
    {
      "cell_type": "code",
      "execution_count": null,
      "metadata": {
        "colab": {
          "base_uri": "https://localhost:8080/"
        },
        "id": "uRvFRQ_vHMtT",
        "outputId": "74dec3c4-a592-4058-a96d-b00c787f175e"
      },
      "outputs": [
        {
          "output_type": "stream",
          "name": "stdout",
          "text": [
            "Requirement already satisfied: geopandas in /usr/local/lib/python3.10/dist-packages (1.0.1)\n",
            "Requirement already satisfied: shapely in /usr/local/lib/python3.10/dist-packages (2.0.6)\n",
            "Collecting gpxpy\n",
            "  Downloading gpxpy-1.6.2-py3-none-any.whl.metadata (5.9 kB)\n",
            "Requirement already satisfied: numpy>=1.22 in /usr/local/lib/python3.10/dist-packages (from geopandas) (1.26.4)\n",
            "Requirement already satisfied: pyogrio>=0.7.2 in /usr/local/lib/python3.10/dist-packages (from geopandas) (0.10.0)\n",
            "Requirement already satisfied: packaging in /usr/local/lib/python3.10/dist-packages (from geopandas) (24.1)\n",
            "Requirement already satisfied: pandas>=1.4.0 in /usr/local/lib/python3.10/dist-packages (from geopandas) (2.2.2)\n",
            "Requirement already satisfied: pyproj>=3.3.0 in /usr/local/lib/python3.10/dist-packages (from geopandas) (3.7.0)\n",
            "Requirement already satisfied: python-dateutil>=2.8.2 in /usr/local/lib/python3.10/dist-packages (from pandas>=1.4.0->geopandas) (2.8.2)\n",
            "Requirement already satisfied: pytz>=2020.1 in /usr/local/lib/python3.10/dist-packages (from pandas>=1.4.0->geopandas) (2024.2)\n",
            "Requirement already satisfied: tzdata>=2022.7 in /usr/local/lib/python3.10/dist-packages (from pandas>=1.4.0->geopandas) (2024.2)\n",
            "Requirement already satisfied: certifi in /usr/local/lib/python3.10/dist-packages (from pyogrio>=0.7.2->geopandas) (2024.8.30)\n",
            "Requirement already satisfied: six>=1.5 in /usr/local/lib/python3.10/dist-packages (from python-dateutil>=2.8.2->pandas>=1.4.0->geopandas) (1.16.0)\n",
            "Downloading gpxpy-1.6.2-py3-none-any.whl (42 kB)\n",
            "\u001b[2K   \u001b[90m━━━━━━━━━━━━━━━━━━━━━━━━━━━━━━━━━━━━━━━━\u001b[0m \u001b[32m42.6/42.6 kB\u001b[0m \u001b[31m1.7 MB/s\u001b[0m eta \u001b[36m0:00:00\u001b[0m\n",
            "\u001b[?25hInstalling collected packages: gpxpy\n",
            "Successfully installed gpxpy-1.6.2\n"
          ]
        }
      ],
      "source": [
        "pip install geopandas shapely gpxpy"
      ]
    },
    {
      "cell_type": "code",
      "source": [
        "import os\n",
        "import gpxpy\n",
        "import geopandas as gpd\n",
        "from shapely.geometry import LineString\n",
        "import zipfile\n",
        "import pandas as pd\n",
        "\n",
        "def gpx_to_geodataframe(gpx_file):\n",
        "    with open(gpx_file, 'r') as file:\n",
        "        gpx = gpxpy.parse(file)\n",
        "\n",
        "    lines = []  # List to hold LineString geometries\n",
        "    for track in gpx.tracks:\n",
        "        all_coords = []  # List to hold all coordinates for this track\n",
        "        for segment in track.segments:\n",
        "            # Create LineString from segment points\n",
        "            coords = [(point.longitude, point.latitude) for point in segment.points]\n",
        "            all_coords.extend(coords)  # Add segment coordinates to the track list\n",
        "\n",
        "        if all_coords:  # Ensure there are coordinates to create a LineString\n",
        "            line = LineString(all_coords)\n",
        "            lines.append({\n",
        "                'geometry': line,\n",
        "                'elevation': [point.elevation for point in segment.points],  # Optional: Add elevation\n",
        "                'time': [point.time for point in segment.points]  # Optional: Add time\n",
        "            })\n",
        "\n",
        "    return gpd.GeoDataFrame(lines, crs=\"EPSG:4326\")  # Set the CRS for WGS84\n",
        "\n",
        "def merge_gpx_files(gpx_files):\n",
        "    all_lines = []\n",
        "    for gpx_file in gpx_files:\n",
        "        gdf = gpx_to_geodataframe(gpx_file)\n",
        "        all_lines.append(gdf)\n",
        "\n",
        "    return gpd.GeoDataFrame(pd.concat(all_lines, ignore_index=True))\n",
        "\n",
        "def save_shapefile_as_zip(gdf, shapefile_name, output_folder):\n",
        "    # Construct the shapefile path\n",
        "    shapefile_path = os.path.join(output_folder, f\"{shapefile_name}.shp\")\n",
        "\n",
        "    # Save as shapefile\n",
        "    gdf.to_file(shapefile_path, driver=\"ESRI Shapefile\")\n",
        "\n",
        "    # Zip the shapefile components\n",
        "    shapefile_zip = f\"{shapefile_path}.zip\"\n",
        "    with zipfile.ZipFile(shapefile_zip, 'w') as zipf:\n",
        "        for root, _, files in os.walk(output_folder):\n",
        "            for file in files:\n",
        "                if file.startswith(shapefile_name) and file.endswith(('.shp', '.shx', '.dbf', '.prj')):\n",
        "                    zipf.write(os.path.join(root, file), arcname=file)"
      ],
      "metadata": {
        "id": "Xrp784VfNeiv"
      },
      "execution_count": null,
      "outputs": []
    },
    {
      "cell_type": "code",
      "source": [
        "# List of GPX files to merge\n",
        "gpx_files = ['/content/Betty Steflik Preserve Trail.gpx',\n",
        "             '/content/Bulow Woods Hiking Trail.gpx',\n",
        "             '/content/Coastal Strand Trail.gpx',\n",
        "             '/content/Fairchild Oak Trail.gpx',\n",
        "             '/content/Graham Swamp Mountain Bike Trail.gpx',\n",
        "             '/content/Graham Swamp Trail.gpx',\n",
        "             '/content/Intracoastal Waterway Trail.gpx',\n",
        "             '/content/Jungle Hut Loop Trail.gpx',\n",
        "             '/content/Lehigh Rail Trail.gpx',\n",
        "             '/content/Ormond Scenic Loop and Trail.gpx',\n",
        "             '/content/Sabal Palm and Palmetto Loop.gpx']  # Add your GPX file paths here\n",
        "output_folder = \"/content/output_folder\"  # Specify your output directory\n",
        "shapefile_name = \"flagler_11trails\"  # Specify your shapefile name\n",
        "\n",
        "# Merge GPX files and save as a shapefile zip\n",
        "merged_gdf = merge_gpx_files(gpx_files)\n",
        "save_shapefile_as_zip(merged_gdf, shapefile_name, output_folder)\n"
      ],
      "metadata": {
        "colab": {
          "base_uri": "https://localhost:8080/"
        },
        "id": "Yk3huergI0n3",
        "outputId": "743db9a3-bb15-4e02-9e93-9efa8973ea5d"
      },
      "execution_count": null,
      "outputs": [
        {
          "output_type": "stream",
          "name": "stderr",
          "text": [
            "/usr/local/lib/python3.10/dist-packages/pyogrio/raw.py:723: RuntimeWarning: Value '[2.37, 2.48, 2.55, 2.0, 1.0, 0.99, 0.31, -0.3, -1.0, 0.0, -0.17, -0.51, 0.36, 0.54, 0.54, 0.36, -0.51, -0.17, 0.0, -1.0, -0.3, 0.31, 0.99, 1.0, 0.9, 0.69, 0.25, 0.0, 0.0, 0.0, 0.0, 0.0, 0.02, 0.35, 0.56, 0.81, 0.59, 0.76, 0.72, 0.51, 0.18, -0.02, -0.05, 0.17, 0.0, 0.0, 0.0, 0.0, 0.0, 0.0, 0.0, 0.0, 0.0, 0.0, -0.31, -0.84, -1.0, -0.12, 0.0, 0.0, -1.0, -1.0, 0.0, 0.0, 0.0, 0.0, -0.68, -0.83, -0.85, -1.0, -0.67, -0.74, -1.0, -0.62, -0.7, -0.59, -1.0, -0.82, -0.95, -1.0, -0.95, -0.69, -1.0, -1.0, -1.0, -0.96, 0.0, 0.52, 0.5, 0.5, 0.52, 0.0, -0.96, -1.0, -1.0, -1.0, -0.69, -0.95, -1.0, -0.95, -0.82, -1.0, -0.59, -0.7, -0.62, -1.0, -0.74, -0.67, -1.0, -0.85, -0.83, -0.68, 0.0, 0.0, 0.0, 0.0, 0.0, -0.12, -1.0, -0.84, -0.31, 0.0, 1.0, 1.0, 2.14, 3.0, 3.0, 3.0, 3.0, 2.48, 2.37]' of field elevation has been truncated to 254 characters.  This warning will not be emitted any more for that layer.\n",
            "  ogr_write(\n"
          ]
        }
      ]
    },
    {
      "cell_type": "code",
      "source": [
        "#Verify Geometry Types\n",
        "#If the output shows Point instead of LineString, then the problem lies in how the geometries are being created or merged.\n",
        "print(merged_gdf.geometry.geom_type)\n"
      ],
      "metadata": {
        "id": "RyANsD8f_Hje",
        "colab": {
          "base_uri": "https://localhost:8080/"
        },
        "outputId": "89c3c1fb-e7dc-4a0d-80b5-43ae7e8b2105"
      },
      "execution_count": null,
      "outputs": [
        {
          "output_type": "stream",
          "name": "stdout",
          "text": [
            "0     LineString\n",
            "1     LineString\n",
            "2     LineString\n",
            "3     LineString\n",
            "4     LineString\n",
            "5     LineString\n",
            "6     LineString\n",
            "7     LineString\n",
            "8     LineString\n",
            "9     LineString\n",
            "10    LineString\n",
            "dtype: object\n"
          ]
        }
      ]
    },
    {
      "cell_type": "code",
      "source": [
        "#Check for Valid Geometries\n",
        "print(merged_gdf.geometry.is_valid)\n"
      ],
      "metadata": {
        "id": "FqIQsv4-_Opq",
        "colab": {
          "base_uri": "https://localhost:8080/"
        },
        "outputId": "c51f53a6-b445-4afc-c536-7a7f01ba876e"
      },
      "execution_count": null,
      "outputs": [
        {
          "output_type": "stream",
          "name": "stdout",
          "text": [
            "0     True\n",
            "1     True\n",
            "2     True\n",
            "3     True\n",
            "4     True\n",
            "5     True\n",
            "6     True\n",
            "7     True\n",
            "8     True\n",
            "9     True\n",
            "10    True\n",
            "dtype: bool\n"
          ]
        }
      ]
    },
    {
      "cell_type": "code",
      "source": [
        "#If any of the geometries are invalid, you can try to fix them using the buffer(0) method, which can help to correct minor issues:\n",
        "merged_gdf['geometry'] = merged_gdf.geometry.buffer(0)\n"
      ],
      "metadata": {
        "id": "Ux6_zH3r_T0a"
      },
      "execution_count": null,
      "outputs": []
    },
    {
      "cell_type": "code",
      "source": [
        "# Download shpefile zip file to the computer\n",
        "from google.colab import files\n",
        "files.download('/content/output_folder/flagler_11trails.shp.zip')"
      ],
      "metadata": {
        "colab": {
          "base_uri": "https://localhost:8080/",
          "height": 17
        },
        "id": "C8fRug-xKOAb",
        "outputId": "a7fc8059-56c5-4891-991b-a41d0dc37a40"
      },
      "execution_count": null,
      "outputs": [
        {
          "output_type": "display_data",
          "data": {
            "text/plain": [
              "<IPython.core.display.Javascript object>"
            ],
            "application/javascript": [
              "\n",
              "    async function download(id, filename, size) {\n",
              "      if (!google.colab.kernel.accessAllowed) {\n",
              "        return;\n",
              "      }\n",
              "      const div = document.createElement('div');\n",
              "      const label = document.createElement('label');\n",
              "      label.textContent = `Downloading \"${filename}\": `;\n",
              "      div.appendChild(label);\n",
              "      const progress = document.createElement('progress');\n",
              "      progress.max = size;\n",
              "      div.appendChild(progress);\n",
              "      document.body.appendChild(div);\n",
              "\n",
              "      const buffers = [];\n",
              "      let downloaded = 0;\n",
              "\n",
              "      const channel = await google.colab.kernel.comms.open(id);\n",
              "      // Send a message to notify the kernel that we're ready.\n",
              "      channel.send({})\n",
              "\n",
              "      for await (const message of channel.messages) {\n",
              "        // Send a message to notify the kernel that we're ready.\n",
              "        channel.send({})\n",
              "        if (message.buffers) {\n",
              "          for (const buffer of message.buffers) {\n",
              "            buffers.push(buffer);\n",
              "            downloaded += buffer.byteLength;\n",
              "            progress.value = downloaded;\n",
              "          }\n",
              "        }\n",
              "      }\n",
              "      const blob = new Blob(buffers, {type: 'application/binary'});\n",
              "      const a = document.createElement('a');\n",
              "      a.href = window.URL.createObjectURL(blob);\n",
              "      a.download = filename;\n",
              "      div.appendChild(a);\n",
              "      a.click();\n",
              "      div.remove();\n",
              "    }\n",
              "  "
            ]
          },
          "metadata": {}
        },
        {
          "output_type": "display_data",
          "data": {
            "text/plain": [
              "<IPython.core.display.Javascript object>"
            ],
            "application/javascript": [
              "download(\"download_61dfe087-e1f2-4326-b439-8017c5a4905d\", \"flagler_11trails.shp.zip\", 99968)"
            ]
          },
          "metadata": {}
        }
      ]
    }
  ]
}